import numpy as np
import matplotlib.pyplot as plt
import neurolab as nl


#generuojam duomenis
min_val = -30
max_val = 30
num_points = 160 
x = np.linspace(min_val, max_val, num_points) #[-30, ... (dar 158 taskai) ...   30]
y = 2 * np.square(x) + 8 #y=2x*x+8
y /= np.linalg.norm(y) #sunormuos
#print(x)
#pakeiciam masyvu formas
data = x.reshape(num_points, 1)
labels = y.reshape(num_points, 1)

#parodom duomenis
plt.figure()
plt.scatter(data, labels)
plt.xlabel('X')
plt.ylabel('Y')
plt.title('Duomenu taskai')
plt.show()



"""sukuriam neuronini tinkla su dviem pasleptais sluoksniais, 
	-10 neuronu pirmam pasleptam sluoksni, 
	-6- antram pasleptam sluoksni
	-1 galiniam sluoksni"""
neural_net = nl.net.newff([[min_val, max_val]], [10, 6, 1])

#naudosime gradientini mokymo algoritma
neural_net.trainf = nl.train.train_gd
#apmokome tinkla
error = neural_net.train(data, labels, epochs = 3000, show = 100, goal = 0.01)


#parodom mokymo procesa
plt.figure()
plt.plot(error)
plt.xlabel('Epochu skaicius')
plt.ylabel('Klaidos')
plt.title('Mokymo procesas')
plt.show()

#paleidziam tinkla mokymo duomenims
output = neural_net.sim(data)
y_pred = output.reshape(num_points)


#Parodom tikras bei prognozuotas vertes
x_dense = np.linspace(min_val, max_val, num_points * 2)
y_dense_pred = neural_net.sim(x_dense.reshape(x_dense.size,1)).reshape(x_dense.size)
plt.figure()
plt.plot(x_dense, y_dense_pred, '-', x, y, '.', x, y_pred, 'p')
plt.title('Tikroji vs prognozuota')
plt.show()
